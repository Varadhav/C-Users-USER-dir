{
 "cells": [
  {
   "cell_type": "markdown",
   "id": "13922d63-1977-4c90-9c82-d4defe01ccf9",
   "metadata": {},
   "source": [
    "# g"
   ]
  },
  {
   "cell_type": "code",
   "execution_count": 2,
   "id": "fbba7262-5bcd-4dbd-9703-92158b79a2e8",
   "metadata": {},
   "outputs": [
    {
     "name": "stdin",
     "output_type": "stream",
     "text": [
      "please enter your age Varadha\n"
     ]
    },
    {
     "name": "stdout",
     "output_type": "stream",
     "text": [
      "Varadha\n"
     ]
    }
   ],
   "source": [
    "Age=input(\"please enter your age\")\n",
    "print(Age)"
   ]
  },
  {
   "cell_type": "code",
   "execution_count": 3,
   "id": "d48254ca-a199-45cd-8c5c-9101c5839118",
   "metadata": {},
   "outputs": [
    {
     "name": "stdin",
     "output_type": "stream",
     "text": [
      "please enter your age 39\n"
     ]
    },
    {
     "name": "stdout",
     "output_type": "stream",
     "text": [
      "39\n"
     ]
    }
   ],
   "source": [
    "Age=int(input(\"please enter your age\"))\n",
    "print(Age)\n"
   ]
  },
  {
   "cell_type": "code",
   "execution_count": 5,
   "id": "b927c5d6-a2d3-4742-a015-bb77544161e1",
   "metadata": {},
   "outputs": [
    {
     "name": "stdin",
     "output_type": "stream",
     "text": [
      "please enter your age Varadha\n"
     ]
    },
    {
     "ename": "ValueError",
     "evalue": "invalid literal for int() with base 10: 'Varadha'",
     "output_type": "error",
     "traceback": [
      "\u001b[1;31m---------------------------------------------------------------------------\u001b[0m",
      "\u001b[1;31mValueError\u001b[0m                                Traceback (most recent call last)",
      "Cell \u001b[1;32mIn[5], line 1\u001b[0m\n\u001b[1;32m----> 1\u001b[0m Age\u001b[38;5;241m=\u001b[39m\u001b[38;5;28mint\u001b[39m(\u001b[38;5;28minput\u001b[39m(\u001b[38;5;124m\"\u001b[39m\u001b[38;5;124mplease enter your age\u001b[39m\u001b[38;5;124m\"\u001b[39m))\n\u001b[0;32m      2\u001b[0m \u001b[38;5;28mprint\u001b[39m(Age)\n",
      "\u001b[1;31mValueError\u001b[0m: invalid literal for int() with base 10: 'Varadha'"
     ]
    }
   ],
   "source": [
    "Age=int(input(\"please enter your age\"))\n",
    "print(Age)"
   ]
  },
  {
   "cell_type": "code",
   "execution_count": 9,
   "id": "e87d18d1-fd06-4574-aa0a-7b07ad528294",
   "metadata": {},
   "outputs": [
    {
     "name": "stdin",
     "output_type": "stream",
     "text": [
      "please enter your age Varadha\n"
     ]
    },
    {
     "name": "stdout",
     "output_type": "stream",
     "text": [
      "please enter a number\n"
     ]
    }
   ],
   "source": [
    "try:\n",
    "    Age=int(input(\"please enter your age\"))\n",
    "    print(Age)\n",
    "except ValueError:\n",
    "    print(\"please enter a number\")\n",
    "    \n",
    "    \n",
    "    "
   ]
  },
  {
   "cell_type": "code",
   "execution_count": 11,
   "id": "00df5c0e-a6f1-439e-b4bd-bfae0878d726",
   "metadata": {},
   "outputs": [],
   "source": [
    "Age1 =25\n",
    "Age2 =20\n"
   ]
  },
  {
   "cell_type": "code",
   "execution_count": 12,
   "id": "20c2c5f6-eda1-4aeb-808c-a5b2cacae83e",
   "metadata": {},
   "outputs": [
    {
     "data": {
      "text/plain": [
       "False"
      ]
     },
     "execution_count": 12,
     "metadata": {},
     "output_type": "execute_result"
    }
   ],
   "source": [
    "Age1==Age2"
   ]
  },
  {
   "cell_type": "code",
   "execution_count": 13,
   "id": "8d1dcf01-cd2c-46fa-82ce-9efe9775ee51",
   "metadata": {},
   "outputs": [
    {
     "data": {
      "text/plain": [
       "True"
      ]
     },
     "execution_count": 13,
     "metadata": {},
     "output_type": "execute_result"
    }
   ],
   "source": [
    "Age1!=Age2"
   ]
  },
  {
   "cell_type": "code",
   "execution_count": 15,
   "id": "c71f31ff-ba6b-4dcc-8aeb-34802550fd2c",
   "metadata": {},
   "outputs": [
    {
     "data": {
      "text/plain": [
       "True"
      ]
     },
     "execution_count": 15,
     "metadata": {},
     "output_type": "execute_result"
    }
   ],
   "source": [
    "Age1>Age2"
   ]
  },
  {
   "cell_type": "code",
   "execution_count": 16,
   "id": "f2717971-abf9-42a7-8a4c-bb642a19bada",
   "metadata": {},
   "outputs": [
    {
     "data": {
      "text/plain": [
       "False"
      ]
     },
     "execution_count": 16,
     "metadata": {},
     "output_type": "execute_result"
    }
   ],
   "source": [
    "Age1<Age2"
   ]
  },
  {
   "cell_type": "code",
   "execution_count": 17,
   "id": "2640bc51-fdd6-4860-a8d9-0efa09ab0acf",
   "metadata": {},
   "outputs": [
    {
     "data": {
      "text/plain": [
       "False"
      ]
     },
     "execution_count": 17,
     "metadata": {},
     "output_type": "execute_result"
    }
   ],
   "source": [
    "Age1<=Age2"
   ]
  },
  {
   "cell_type": "code",
   "execution_count": 19,
   "id": "a439309f-8e5f-44a5-9d4d-d359cb7640b9",
   "metadata": {},
   "outputs": [
    {
     "name": "stdin",
     "output_type": "stream",
     "text": [
      "what is your mark? 40\n"
     ]
    },
    {
     "name": "stdout",
     "output_type": "stream",
     "text": [
      "pass\n"
     ]
    }
   ],
   "source": [
    "marks =int(input(\"what is your mark?\"))\n",
    "if marks >=40:\n",
    "    print(\"pass\")\n",
    "    \n",
    "    "
   ]
  },
  {
   "cell_type": "code",
   "execution_count": 21,
   "id": "19446ade-b0ac-4362-9769-f344bd0c23fe",
   "metadata": {},
   "outputs": [
    {
     "name": "stdin",
     "output_type": "stream",
     "text": [
      "what is your mark? 25\n"
     ]
    },
    {
     "name": "stdout",
     "output_type": "stream",
     "text": [
      "Fail\n"
     ]
    }
   ],
   "source": [
    "marks =int(input(\"what is your mark?\"))\n",
    "if marks >=40:\n",
    "    print(\"pass\")\n",
    "else:\n",
    "  print (\"Fail\")"
   ]
  },
  {
   "cell_type": "code",
   "execution_count": 1,
   "id": "53d82b09-5339-4793-9ac7-322b77a1d299",
   "metadata": {},
   "outputs": [
    {
     "name": "stdout",
     "output_type": "stream",
     "text": [
      "13\n"
     ]
    }
   ],
   "source": [
    "x = 10\n",
    "y = 3\n",
    "print(x + y)\n"
   ]
  },
  {
   "cell_type": "code",
   "execution_count": 2,
   "id": "3e2f0ad0-5aaa-4811-ae5a-a821218f082a",
   "metadata": {},
   "outputs": [
    {
     "ename": "SyntaxError",
     "evalue": "invalid syntax (1117805685.py, line 1)",
     "output_type": "error",
     "traceback": [
      "\u001b[1;36m  Cell \u001b[1;32mIn[2], line 1\u001b[1;36m\u001b[0m\n\u001b[1;33m    print(x * y) 30\u001b[0m\n\u001b[1;37m                 ^\u001b[0m\n\u001b[1;31mSyntaxError\u001b[0m\u001b[1;31m:\u001b[0m invalid syntax\n"
     ]
    }
   ],
   "source": [
    "print(x * y) 30"
   ]
  },
  {
   "cell_type": "code",
   "execution_count": 3,
   "id": "773964e1-a32d-4a69-8da2-2c67fd98204e",
   "metadata": {},
   "outputs": [
    {
     "name": "stdout",
     "output_type": "stream",
     "text": [
      "30\n"
     ]
    }
   ],
   "source": [
    "x = 10\n",
    "y = 3\n",
    "print(x * y)"
   ]
  },
  {
   "cell_type": "code",
   "execution_count": 4,
   "id": "cebd339b-9f53-492c-be23-4ec6377eba6a",
   "metadata": {},
   "outputs": [
    {
     "name": "stdout",
     "output_type": "stream",
     "text": [
      "2\n"
     ]
    }
   ],
   "source": [
    "x = 10\n",
    "y = 4\n",
    "print(x % y)"
   ]
  },
  {
   "cell_type": "code",
   "execution_count": 5,
   "id": "cd49231d-b0bc-4ac8-a37a-07f03d5d04f9",
   "metadata": {},
   "outputs": [
    {
     "name": "stdout",
     "output_type": "stream",
     "text": [
      "60\n"
     ]
    }
   ],
   "source": [
    "x = 100\n",
    "y = 40\n",
    "print(x- y)"
   ]
  },
  {
   "cell_type": "code",
   "execution_count": 6,
   "id": "b01c7a87-7e46-4ecc-b347-e9c2293b1629",
   "metadata": {},
   "outputs": [
    {
     "name": "stdout",
     "output_type": "stream",
     "text": [
      "<class 'bool'>\n"
     ]
    }
   ],
   "source": [
    "# Boolean values\n",
    "a = True\n",
    "b = False\n",
    "print(type(a))"
   ]
  },
  {
   "cell_type": "code",
   "execution_count": 7,
   "id": "e82a2c7e-f3ed-42d7-88ad-f59f94c36b53",
   "metadata": {},
   "outputs": [
    {
     "name": "stdout",
     "output_type": "stream",
     "text": [
      "<class 'bool'>\n"
     ]
    }
   ],
   "source": [
    "print(type(b))"
   ]
  },
  {
   "cell_type": "code",
   "execution_count": 8,
   "id": "4c4634d8-bc93-4d91-912c-e0b8c073a7a0",
   "metadata": {},
   "outputs": [
    {
     "name": "stdout",
     "output_type": "stream",
     "text": [
      "True\n"
     ]
    }
   ],
   "source": [
    "x = 10\n",
    "y = 5\n",
    "\n",
    "print(x > y)\n",
    "\n"
   ]
  },
  {
   "cell_type": "code",
   "execution_count": 10,
   "id": "027e7d34-cad2-4fe2-957a-7738827eba72",
   "metadata": {},
   "outputs": [
    {
     "name": "stdout",
     "output_type": "stream",
     "text": [
      "True\n"
     ]
    }
   ],
   "source": [
    "x = 100.0\n",
    "y = 59\n",
    "\n",
    "print(x > y)\n"
   ]
  },
  {
   "cell_type": "code",
   "execution_count": 11,
   "id": "72b035b5-6546-4a68-9744-23c8cdb00b3c",
   "metadata": {},
   "outputs": [
    {
     "name": "stdout",
     "output_type": "stream",
     "text": [
      "False\n"
     ]
    }
   ],
   "source": [
    "x = 10\n",
    "y = 5\n",
    "print(x < y)"
   ]
  },
  {
   "cell_type": "code",
   "execution_count": 14,
   "id": "81073cf8-86dd-4f45-b278-7a44da15483f",
   "metadata": {},
   "outputs": [
    {
     "name": "stdout",
     "output_type": "stream",
     "text": [
      "False\n"
     ]
    }
   ],
   "source": [
    "x = 10\n",
    "y = 5\n",
    "print(x == y)"
   ]
  },
  {
   "cell_type": "code",
   "execution_count": 15,
   "id": "b310971c-854f-4f47-8a70-9002d2685334",
   "metadata": {},
   "outputs": [
    {
     "data": {
      "text/plain": [
       "True"
      ]
     },
     "execution_count": 15,
     "metadata": {},
     "output_type": "execute_result"
    }
   ],
   "source": [
    "x = 10\n",
    "y = 5\n",
    "(x != y)"
   ]
  },
  {
   "cell_type": "code",
   "execution_count": 16,
   "id": "daa2a42c-1a3e-4a6b-a0a2-44b76c28564f",
   "metadata": {},
   "outputs": [
    {
     "name": "stdout",
     "output_type": "stream",
     "text": [
      "Counting down: 5\n",
      "Counting down: 4\n",
      "Counting down: 3\n",
      "Counting down: 2\n",
      "Counting down: 1\n"
     ]
    }
   ],
   "source": [
    "count = 5\n",
    "while count:\n",
    "    print(\"Counting down:\", count)\n",
    "    count -= 1  # Decrease count\n",
    "\n",
    "\n"
   ]
  },
  {
   "cell_type": "code",
   "execution_count": 17,
   "id": "cc2a36df-1eb3-428d-bd3a-e776b1b6027c",
   "metadata": {},
   "outputs": [
    {
     "name": "stdout",
     "output_type": "stream",
     "text": [
      "Take an umbrella!\n"
     ]
    }
   ],
   "source": [
    "is_raining = True\n",
    "\n",
    "if is_raining:\n",
    "    print(\"Take an umbrella!\") \n"
   ]
  },
  {
   "cell_type": "code",
   "execution_count": 18,
   "id": "697a22e3-4288-49f7-bbf7-dc004fa89ed0",
   "metadata": {},
   "outputs": [
    {
     "ename": "SyntaxError",
     "evalue": "invalid syntax (3111043938.py, line 4)",
     "output_type": "error",
     "traceback": [
      "\u001b[1;36m  Cell \u001b[1;32mIn[18], line 4\u001b[1;36m\u001b[0m\n\u001b[1;33m    else:\u001b[0m\n\u001b[1;37m    ^\u001b[0m\n\u001b[1;31mSyntaxError\u001b[0m\u001b[1;31m:\u001b[0m invalid syntax\n"
     ]
    }
   ],
   "source": [
    "is_raining = True\n",
    "\n",
    "if is_raining:\n",
    "   else:\n",
    "    print(\"Enjoy the sunshine!\")"
   ]
  },
  {
   "cell_type": "code",
   "execution_count": 25,
   "id": "65cc555f-8cb7-43ad-8127-446ea9dceb49",
   "metadata": {},
   "outputs": [
    {
     "name": "stdout",
     "output_type": "stream",
     "text": [
      "Enjoy the sunshine!\n"
     ]
    }
   ],
   "source": [
    "is_raining = False\n",
    "\n",
    "if is_raining:\n",
    "    print(\"Take an umbrella!\")\n",
    "    pass\n",
    "else:\n",
    "    print(\"Enjoy the sunshine!\")\n",
    "\n"
   ]
  },
  {
   "cell_type": "code",
   "execution_count": null,
   "id": "2636a074-181b-41ed-9c84-a61e4ba5206b",
   "metadata": {},
   "outputs": [],
   "source": []
  }
 ],
 "metadata": {
  "kernelspec": {
   "display_name": "Python 3 (ipykernel)",
   "language": "python",
   "name": "python3"
  },
  "language_info": {
   "codemirror_mode": {
    "name": "ipython",
    "version": 3
   },
   "file_extension": ".py",
   "mimetype": "text/x-python",
   "name": "python",
   "nbconvert_exporter": "python",
   "pygments_lexer": "ipython3",
   "version": "3.12.7"
  }
 },
 "nbformat": 4,
 "nbformat_minor": 5
}
