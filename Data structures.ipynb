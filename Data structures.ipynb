{
 "cells": [
  {
   "cell_type": "code",
   "execution_count": 8,
   "id": "c88a31e4-bb62-4ae3-956f-b577135fc84f",
   "metadata": {},
   "outputs": [],
   "source": [
    "subjects = [\"Tamil\", \"English\", \"Maths\"]"
   ]
  },
  {
   "cell_type": "code",
   "execution_count": 10,
   "id": "e9901862-f52f-4bfd-9adf-0104462ccaa5",
   "metadata": {},
   "outputs": [
    {
     "ename": "TypeError",
     "evalue": "'list' object is not callable",
     "output_type": "error",
     "traceback": [
      "\u001b[1;31m---------------------------------------------------------------------------\u001b[0m",
      "\u001b[1;31mTypeError\u001b[0m                                 Traceback (most recent call last)",
      "Cell \u001b[1;32mIn[10], line 1\u001b[0m\n\u001b[1;32m----> 1\u001b[0m \u001b[38;5;28mtype\u001b[39m(subjects)\n",
      "\u001b[1;31mTypeError\u001b[0m: 'list' object is not callable"
     ]
    }
   ],
   "source": [
    "type(subjects)"
   ]
  },
  {
   "cell_type": "code",
   "execution_count": 11,
   "id": "60655199-2691-4c7e-aab0-222fde63d96a",
   "metadata": {},
   "outputs": [
    {
     "name": "stdout",
     "output_type": "stream",
     "text": [
      "['Tamil', 'English', 'Maths']\n"
     ]
    }
   ],
   "source": [
    "print(type)"
   ]
  },
  {
   "cell_type": "code",
   "execution_count": 12,
   "id": "4f969143-fb82-49a9-92a1-b2b89668bb43",
   "metadata": {},
   "outputs": [],
   "source": [
    "del(type)"
   ]
  },
  {
   "cell_type": "code",
   "execution_count": 13,
   "id": "797d5090-f58e-4e47-aa61-3731b2a09b7f",
   "metadata": {},
   "outputs": [],
   "source": [
    "subjects=[\"Tamil\", \"English\", \"Maths\"]"
   ]
  },
  {
   "cell_type": "code",
   "execution_count": 15,
   "id": "908262c9-5f31-4363-b598-e5adb20a12dc",
   "metadata": {},
   "outputs": [
    {
     "name": "stdout",
     "output_type": "stream",
     "text": [
      "<class 'list'>\n"
     ]
    }
   ],
   "source": [
    "print(type (subjects))"
   ]
  },
  {
   "cell_type": "code",
   "execution_count": 16,
   "id": "374df363-dafb-498d-82ce-c3000d5e2a89",
   "metadata": {},
   "outputs": [
    {
     "data": {
      "text/plain": [
       "list"
      ]
     },
     "execution_count": 16,
     "metadata": {},
     "output_type": "execute_result"
    }
   ],
   "source": [
    "type(subjects)"
   ]
  },
  {
   "cell_type": "code",
   "execution_count": 17,
   "id": "1ba7ce8f-7d87-4659-9af3-80a94cb326e5",
   "metadata": {},
   "outputs": [
    {
     "name": "stdout",
     "output_type": "stream",
     "text": [
      "Maths\n"
     ]
    }
   ],
   "source": [
    "print(subjects[2])"
   ]
  },
  {
   "cell_type": "code",
   "execution_count": 19,
   "id": "aaed54c8-014f-4af1-8c20-1d597102839b",
   "metadata": {},
   "outputs": [
    {
     "data": {
      "text/plain": [
       "['Tamil', 'English']"
      ]
     },
     "execution_count": 19,
     "metadata": {},
     "output_type": "execute_result"
    }
   ],
   "source": [
    "subjects[0:2]"
   ]
  },
  {
   "cell_type": "code",
   "execution_count": 20,
   "id": "24d37fc5-5848-4a99-aa89-6066b11bd356",
   "metadata": {},
   "outputs": [],
   "source": [
    "subjects.append(\"science\")"
   ]
  },
  {
   "cell_type": "code",
   "execution_count": 21,
   "id": "7b90ff84-4629-40cc-91b2-c0aa80e22904",
   "metadata": {},
   "outputs": [
    {
     "name": "stdout",
     "output_type": "stream",
     "text": [
      "['Tamil', 'English', 'Maths', 'science']\n"
     ]
    }
   ],
   "source": [
    "print(subjects)"
   ]
  },
  {
   "cell_type": "code",
   "execution_count": 22,
   "id": "296125da-8bcf-4ca3-997a-e62774162679",
   "metadata": {},
   "outputs": [],
   "source": [
    "subjects.remove(\"science\")"
   ]
  },
  {
   "cell_type": "code",
   "execution_count": 23,
   "id": "10d01004-c2a6-46fb-8101-db9d408d2e93",
   "metadata": {},
   "outputs": [
    {
     "name": "stdout",
     "output_type": "stream",
     "text": [
      "['Tamil', 'English', 'Maths']\n"
     ]
    }
   ],
   "source": [
    "print(subjects)"
   ]
  },
  {
   "cell_type": "code",
   "execution_count": 24,
   "id": "9cb83503-f686-40f8-812e-d296f4e46360",
   "metadata": {},
   "outputs": [],
   "source": [
    "subjects2=[\"history\", \"accounts\",]"
   ]
  },
  {
   "cell_type": "code",
   "execution_count": 25,
   "id": "ab252505-d6ce-4dbc-b5d1-8ccc0d964526",
   "metadata": {},
   "outputs": [],
   "source": [
    "subjects.extend(subjects2)"
   ]
  },
  {
   "cell_type": "code",
   "execution_count": 26,
   "id": "e6ecc10f-a00b-457c-ac3a-7a9bac50d476",
   "metadata": {},
   "outputs": [
    {
     "name": "stdout",
     "output_type": "stream",
     "text": [
      "['Tamil', 'English', 'Maths', 'history', 'accounts']\n"
     ]
    }
   ],
   "source": [
    "print(subjects)"
   ]
  },
  {
   "cell_type": "code",
   "execution_count": 27,
   "id": "e46fbfc0-4f0d-4f73-baa7-9b2ee534784a",
   "metadata": {},
   "outputs": [],
   "source": [
    "subjects.sort()"
   ]
  },
  {
   "cell_type": "code",
   "execution_count": 28,
   "id": "ab41ce1e-e326-46b0-9b55-19de90eb1bec",
   "metadata": {},
   "outputs": [
    {
     "name": "stdout",
     "output_type": "stream",
     "text": [
      "['English', 'Maths', 'Tamil', 'accounts', 'history']\n"
     ]
    }
   ],
   "source": [
    "print(subjects)"
   ]
  },
  {
   "cell_type": "code",
   "execution_count": 35,
   "id": "d9e390b4-6e52-46af-a977-2893afe7556d",
   "metadata": {},
   "outputs": [],
   "source": [
    "Medals=(\"Gold\", \"Silver\", \"Bronze\",)"
   ]
  },
  {
   "cell_type": "code",
   "execution_count": 31,
   "id": "82a4258c-d6b6-4d1f-9075-99d6d0e90dcd",
   "metadata": {},
   "outputs": [
    {
     "data": {
      "text/plain": [
       "tuple"
      ]
     },
     "execution_count": 31,
     "metadata": {},
     "output_type": "execute_result"
    }
   ],
   "source": [
    "type(Medals)"
   ]
  },
  {
   "cell_type": "code",
   "execution_count": 33,
   "id": "1568af12-de72-42b5-8da2-90c64ef14123",
   "metadata": {},
   "outputs": [],
   "source": [
    "Medal1, Medal2, Medal3 = Medals"
   ]
  },
  {
   "cell_type": "code",
   "execution_count": 37,
   "id": "6af19cb4-42c8-496b-bd97-d22bc9ca95db",
   "metadata": {},
   "outputs": [
    {
     "name": "stdout",
     "output_type": "stream",
     "text": [
      "Gold\n",
      "Silver\n",
      "bronze\n"
     ]
    }
   ],
   "source": [
    "print(Medal1)\n",
    "print(Medal2)\n",
    "print(Medal3)"
   ]
  },
  {
   "cell_type": "code",
   "execution_count": 39,
   "id": "a6609d16-8743-46d3-9220-6d9671a517e6",
   "metadata": {},
   "outputs": [
    {
     "name": "stdout",
     "output_type": "stream",
     "text": [
      "('Gold', 'Silver', 'bronze')\n"
     ]
    }
   ],
   "source": [
    "Medals_combined=(Medal1, Medal2, Medal3)\n",
    "print(Medals_combined)"
   ]
  },
  {
   "cell_type": "code",
   "execution_count": 40,
   "id": "5284d72e-a29e-417f-bb79-89727bc0e650",
   "metadata": {},
   "outputs": [
    {
     "name": "stdout",
     "output_type": "stream",
     "text": [
      "Silver\n"
     ]
    }
   ],
   "source": [
    "print(Medals[1])"
   ]
  },
  {
   "cell_type": "code",
   "execution_count": 44,
   "id": "8f5e4e2f-af9e-448e-88b7-fb9507f37d7f",
   "metadata": {},
   "outputs": [
    {
     "name": "stdout",
     "output_type": "stream",
     "text": [
      "('Gold', 'Silver')\n"
     ]
    }
   ],
   "source": [
    "print(Medals[0:2])"
   ]
  },
  {
   "cell_type": "code",
   "execution_count": 9,
   "id": "be7df3e9-9165-48f7-a158-9a16c101ab50",
   "metadata": {},
   "outputs": [
    {
     "name": "stdout",
     "output_type": "stream",
     "text": [
      "apple\n"
     ]
    }
   ],
   "source": [
    "fruits = ['apple', 'banana', 'cherry']\n",
    "print(fruits[0])"
   ]
  },
  {
   "cell_type": "code",
   "execution_count": 6,
   "id": "17707593-1b6e-4b9b-a121-ea323d09518d",
   "metadata": {},
   "outputs": [
    {
     "name": "stdout",
     "output_type": "stream",
     "text": [
      "['apple', 'blueberry', 'cherry']\n"
     ]
    }
   ],
   "source": [
    "fruits = ['apple', 'banana', 'cherry']\n",
    "fruits[1] = 'blueberry'\n",
    "\n",
    "print(fruits)\n"
   ]
  },
  {
   "cell_type": "code",
   "execution_count": 9,
   "id": "4f99c553-e755-410a-82f2-a7acea48dd98",
   "metadata": {},
   "outputs": [
    {
     "name": "stdout",
     "output_type": "stream",
     "text": [
      "20\n"
     ]
    }
   ],
   "source": [
    "coordinates = (10, 20, 30)\n",
    "print(coordinates[1]) \n",
    "\n"
   ]
  },
  {
   "cell_type": "code",
   "execution_count": 10,
   "id": "44a02cfc-4572-41e5-8ed1-6ce8f1be278e",
   "metadata": {},
   "outputs": [
    {
     "name": "stdout",
     "output_type": "stream",
     "text": [
      "{1, 2, 3, 4, 5, 6}\n"
     ]
    }
   ],
   "source": [
    "numbers = {1, 2, 3, 4, 5}\n",
    "numbers.add(6)\n",
    "print(numbers)\n",
    "\n"
   ]
  },
  {
   "cell_type": "code",
   "execution_count": 11,
   "id": "04903d8f-60b8-47ed-802b-66ba14c3b0f5",
   "metadata": {},
   "outputs": [
    {
     "name": "stdout",
     "output_type": "stream",
     "text": [
      "{1, 2, 3, 5, 6}\n"
     ]
    }
   ],
   "source": [
    "numbers.remove(4)\n",
    "print(numbers)\n",
    "\n",
    "\n"
   ]
  },
  {
   "cell_type": "code",
   "execution_count": 12,
   "id": "03556c46-34d0-49a1-800a-04f987d15b44",
   "metadata": {},
   "outputs": [
    {
     "name": "stdout",
     "output_type": "stream",
     "text": [
      "Vara\n"
     ]
    }
   ],
   "source": [
    "person = {'name': 'Vara', 'age': 40, 'city': 'Chennai'}\n",
    "print(person['name']) \n",
    "\n"
   ]
  },
  {
   "cell_type": "code",
   "execution_count": 13,
   "id": "3fe58884-f0a7-43f5-bd18-671122566167",
   "metadata": {},
   "outputs": [
    {
     "name": "stdout",
     "output_type": "stream",
     "text": [
      "{'name': 'Vara', 'age': 40, 'city': 'Chennai'}\n"
     ]
    }
   ],
   "source": [
    "person['age'] = 40\n",
    "print(person)\n",
    "\n"
   ]
  },
  {
   "cell_type": "code",
   "execution_count": 14,
   "id": "bd504cbc-50cf-4100-8a28-da67e0219650",
   "metadata": {},
   "outputs": [
    {
     "name": "stdout",
     "output_type": "stream",
     "text": [
      "{'name': 'Vara', 'age': 40, 'city': 'Chennai', 'job': 'Engineer'}\n"
     ]
    }
   ],
   "source": [
    "person['job'] = 'Engineer'\n",
    "print(person)  \n"
   ]
  },
  {
   "cell_type": "code",
   "execution_count": 15,
   "id": "7412059a-8caf-4e13-81ef-3c36e95f87fd",
   "metadata": {},
   "outputs": [
    {
     "name": "stdout",
     "output_type": "stream",
     "text": [
      "[1, 2, 3, 4]\n"
     ]
    }
   ],
   "source": [
    "stack = [1, 2, 3]\n",
    "stack.append(4)\n",
    "print(stack) \n",
    "\n"
   ]
  },
  {
   "cell_type": "code",
   "execution_count": 16,
   "id": "12b91762-55a6-4e3d-87c8-9a5f1ad84366",
   "metadata": {},
   "outputs": [
    {
     "name": "stdout",
     "output_type": "stream",
     "text": [
      "[1, 2, 3]\n"
     ]
    }
   ],
   "source": [
    "stack.pop()\n",
    "print(stack) \n"
   ]
  },
  {
   "cell_type": "code",
   "execution_count": 17,
   "id": "6d7d868d-2105-4e6e-893a-d8561dd686d6",
   "metadata": {},
   "outputs": [
    {
     "name": "stdout",
     "output_type": "stream",
     "text": [
      "1 -> 2 -> 3 -> None\n"
     ]
    }
   ],
   "source": [
    "class Node:\n",
    "    def __init__(self, data):\n",
    "        self.data = data\n",
    "        self.next = None\n",
    "\n",
    "class LinkedList:\n",
    "    def __init__(self):\n",
    "        self.head = None\n",
    "\n",
    "    def append(self, data):\n",
    "        new_node = Node(data)\n",
    "        if not self.head:\n",
    "            self.head = new_node\n",
    "        else:\n",
    "            temp = self.head\n",
    "            while temp.next:\n",
    "                temp = temp.next\n",
    "            temp.next = new_node\n",
    "\n",
    "    def display(self):\n",
    "        temp = self.head\n",
    "        while temp:\n",
    "            print(temp.data, end=\" -> \")\n",
    "            temp = temp.next\n",
    "        print(\"None\")\n",
    "\n",
    "ll = LinkedList()\n",
    "ll.append(1)\n",
    "ll.append(2)\n",
    "ll.append(3)\n",
    "ll.display() \n",
    "\n",
    "\n"
   ]
  },
  {
   "cell_type": "code",
   "execution_count": null,
   "id": "9f147010-1c13-4c57-a233-9d2c564f534e",
   "metadata": {},
   "outputs": [],
   "source": []
  }
 ],
 "metadata": {
  "kernelspec": {
   "display_name": "Python 3 (ipykernel)",
   "language": "python",
   "name": "python3"
  },
  "language_info": {
   "codemirror_mode": {
    "name": "ipython",
    "version": 3
   },
   "file_extension": ".py",
   "mimetype": "text/x-python",
   "name": "python",
   "nbconvert_exporter": "python",
   "pygments_lexer": "ipython3",
   "version": "3.12.7"
  }
 },
 "nbformat": 4,
 "nbformat_minor": 5
}
