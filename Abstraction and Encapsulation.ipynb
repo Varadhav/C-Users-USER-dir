{
 "cells": [
  {
   "cell_type": "code",
   "execution_count": 1,
   "id": "ddddae44-89b3-42e6-b0c1-b231590013cd",
   "metadata": {},
   "outputs": [
    {
     "name": "stdout",
     "output_type": "stream",
     "text": [
      "100\n",
      "This is encapsulation demo\n"
     ]
    }
   ],
   "source": [
    "class encapdemo():\n",
    "    x=100\n",
    "    def demo(self):\n",
    "        print(\"This is encapsulation demo\")\n",
    "\n",
    "encapdemoobj = encapdemo()\n",
    "print(encapdemoobj.x)\n",
    "encapdemoobj.demo()\n"
   ]
  },
  {
   "cell_type": "code",
   "execution_count": 2,
   "id": "ed3d418e-92a6-4e48-b349-2ec6debd4c4e",
   "metadata": {},
   "outputs": [
    {
     "ename": "AttributeError",
     "evalue": "'encapdemo' object has no attribute 'x'",
     "output_type": "error",
     "traceback": [
      "\u001b[1;31m---------------------------------------------------------------------------\u001b[0m",
      "\u001b[1;31mAttributeError\u001b[0m                            Traceback (most recent call last)",
      "Cell \u001b[1;32mIn[2], line 7\u001b[0m\n\u001b[0;32m      4\u001b[0m         \u001b[38;5;28mprint\u001b[39m(\u001b[38;5;124m\"\u001b[39m\u001b[38;5;124mThis is encapsulation demo\u001b[39m\u001b[38;5;124m\"\u001b[39m)\n\u001b[0;32m      6\u001b[0m encapdemoobj \u001b[38;5;241m=\u001b[39m encapdemo()\n\u001b[1;32m----> 7\u001b[0m \u001b[38;5;28mprint\u001b[39m(encapdemoobj\u001b[38;5;241m.\u001b[39mx)\n\u001b[0;32m      8\u001b[0m encapdemoobj\u001b[38;5;241m.\u001b[39mdemo()\n",
      "\u001b[1;31mAttributeError\u001b[0m: 'encapdemo' object has no attribute 'x'"
     ]
    }
   ],
   "source": [
    "class encapdemo():\n",
    "    __x=100\n",
    "    def demo(self):\n",
    "        print(\"This is encapsulation demo\")\n",
    "\n",
    "encapdemoobj = encapdemo()\n",
    "print(encapdemoobj.x)\n",
    "encapdemoobj.demo()"
   ]
  },
  {
   "cell_type": "code",
   "execution_count": 3,
   "id": "a571a812-ad1c-4459-bb13-847e81fb242e",
   "metadata": {},
   "outputs": [
    {
     "name": "stdout",
     "output_type": "stream",
     "text": [
      "This is encapsulation demo\n"
     ]
    }
   ],
   "source": [
    "class encapdemo():\n",
    "    x=100\n",
    "    def demo(self):\n",
    "        print(\"This is encapsulation demo\")\n",
    "\n",
    "encapdemoobj = encapdemo()\n",
    "#print(encapdemoobj.x)\n",
    "encapdemoobj.demo()"
   ]
  },
  {
   "cell_type": "code",
   "execution_count": 7,
   "id": "b788415f-f658-41d5-8328-ccb3dbc3710a",
   "metadata": {},
   "outputs": [
    {
     "name": "stdout",
     "output_type": "stream",
     "text": [
      "100\n"
     ]
    },
    {
     "ename": "AttributeError",
     "evalue": "'encapdemo' object has no attribute '__demo'",
     "output_type": "error",
     "traceback": [
      "\u001b[1;31m---------------------------------------------------------------------------\u001b[0m",
      "\u001b[1;31mAttributeError\u001b[0m                            Traceback (most recent call last)",
      "Cell \u001b[1;32mIn[7], line 8\u001b[0m\n\u001b[0;32m      6\u001b[0m encapdemoobj \u001b[38;5;241m=\u001b[39m encapdemo()\n\u001b[0;32m      7\u001b[0m \u001b[38;5;28mprint\u001b[39m(encapdemoobj\u001b[38;5;241m.\u001b[39mx)\n\u001b[1;32m----> 8\u001b[0m encapdemoobj\u001b[38;5;241m.\u001b[39m__demo()\n",
      "\u001b[1;31mAttributeError\u001b[0m: 'encapdemo' object has no attribute '__demo'"
     ]
    }
   ],
   "source": [
    "class encapdemo():\n",
    "    x=100\n",
    "    def __demo(self):\n",
    "        print(\"This is encapsulation demo\")\n",
    "\n",
    "encapdemoobj = encapdemo()\n",
    "print(encapdemoobj.x)\n",
    "encapdemoobj.__demo()"
   ]
  },
  {
   "cell_type": "code",
   "execution_count": 12,
   "id": "c85d10b4-750a-40e4-b33f-460c1e207faa",
   "metadata": {},
   "outputs": [
    {
     "name": "stdout",
     "output_type": "stream",
     "text": [
      "100\n",
      "This is encapsulation demo\n"
     ]
    }
   ],
   "source": [
    "class encapdemo():\n",
    "    __x=100\n",
    "    def __demo(self):\n",
    "        print(\"This is encapsulation demo\")\n",
    "\n",
    "encapdemoobj = encapdemo()\n",
    "print(encapdemoobj._encapdemo__x)\n",
    "encapdemoobj._encapdemo__demo()"
   ]
  },
  {
   "cell_type": "code",
   "execution_count": 1,
   "id": "60585d10-b523-4801-88ed-a6d78f0b9fe4",
   "metadata": {},
   "outputs": [
    {
     "ename": "SyntaxError",
     "evalue": "incomplete input (2759339729.py, line 5)",
     "output_type": "error",
     "traceback": [
      "\u001b[1;36m  Cell \u001b[1;32mIn[1], line 5\u001b[1;36m\u001b[0m\n\u001b[1;33m    \u001b[0m\n\u001b[1;37m    ^\u001b[0m\n\u001b[1;31mSyntaxError\u001b[0m\u001b[1;31m:\u001b[0m incomplete input\n"
     ]
    }
   ],
   "source": [
    "# Abstract class\n",
    "class Vehicle(ABC):\n",
    "    @abstractmethod\n",
    "    def start_engine(self):\n",
    "       \n"
   ]
  },
  {
   "cell_type": "code",
   "execution_count": 4,
   "id": "65567115-f75f-402c-a83a-3bf0919b470e",
   "metadata": {},
   "outputs": [
    {
     "name": "stdout",
     "output_type": "stream",
     "text": [
      "Car engine started.\n",
      "Bike engine started.\n"
     ]
    }
   ],
   "source": [
    "from abc import ABC, abstractmethod\n",
    "\n",
    "# Abstract class\n",
    "class Vehicle(ABC):\n",
    "    @abstractmethod\n",
    "    def start_engine(self):\n",
    "        pass\n",
    "\n",
    "class Car(Vehicle):\n",
    "    def start_engine(self):\n",
    "        print(\"Car engine started.\")\n",
    "\n",
    "class Bike(Vehicle):\n",
    "    def start_engine(self):\n",
    "        print(\"Bike engine started.\")\n",
    "\n",
    "car = Car()\n",
    "car.start_engine()\n",
    "\n",
    "bike = Bike()\n",
    "bike.start_engine()\n",
    "\n"
   ]
  },
  {
   "cell_type": "code",
   "execution_count": 6,
   "id": "5538411d-ede6-4aec-8e92-f13b5d93d003",
   "metadata": {},
   "outputs": [
    {
     "name": "stdout",
     "output_type": "stream",
     "text": [
      "Deposited: 500, New Balance: 1500\n",
      "Withdrew: 300, New Balance: 1200\n",
      "Current Balance: 1200\n"
     ]
    }
   ],
   "source": [
    "class BankAccount:\n",
    "    def __init__(self, balance):\n",
    "        self.__balance = balance\n",
    "\n",
    "    def deposit(self, amount):\n",
    "        if amount > 0:\n",
    "            self.__balance += amount\n",
    "            print(f\"Deposited: {amount}, New Balance: {self.__balance}\")\n",
    "\n",
    "    def withdraw(self, amount):\n",
    "        if 0 < amount <= self.__balance:\n",
    "            self.__balance -= amount\n",
    "            print(f\"Withdrew: {amount}, New Balance: {self.__balance}\")\n",
    "        else:\n",
    "            print(\"Invalid withdrawal amount.\")\n",
    "\n",
    "    def get_balance(self):  \n",
    "        return self.__balance\n",
    "account = BankAccount(1000)\n",
    "account.deposit(500)     \n",
    "account.withdraw(300)    \n",
    "print(\"Current Balance:\", account.get_balance())\n",
    "\n",
    "\n"
   ]
  },
  {
   "cell_type": "code",
   "execution_count": 9,
   "id": "51391b9d-52c9-4a71-8057-3e51bba8e6de",
   "metadata": {},
   "outputs": [
    {
     "name": "stdout",
     "output_type": "stream",
     "text": [
      "Dog: Bark, Run\n"
     ]
    }
   ],
   "source": [
    "class Animal(ABC):\n",
    "    \n",
    "    @abstractmethod\n",
    "    def sound(self):\n",
    "        pass  #\n",
    "\n",
    "    @abstractmethod\n",
    "    def move(self):\n",
    "        pass  #\n",
    "\n",
    "class Cow(Animal):\n",
    "    \n",
    "    def sound(self):\n",
    "        return \"Moo\"\n",
    "    \n",
    "    def move(self):\n",
    "        return \"Run\"\n",
    "\n",
    "class Bird(Animal):\n",
    "    \n",
    "    def sound(self):\n",
    "        return \"Chirp\"\n",
    "    \n",
    "    def move(self):\n",
    "        return \"Fly\"\n",
    "\n",
    "dog = Dog()\n",
    "bird = Bird()\n",
    "\n",
    "print(f\"Dog: {dog.sound()}, {dog.move()}\")\n",
    "\n"
   ]
  },
  {
   "cell_type": "code",
   "execution_count": 8,
   "id": "b2a46cf1-b775-48f6-9c57-f44ed2f30843",
   "metadata": {},
   "outputs": [
    {
     "name": "stdout",
     "output_type": "stream",
     "text": [
      "Bird: Chirp, Fly\n"
     ]
    }
   ],
   "source": [
    "print(f\"Bird: {bird.sound()}, {bird.move()}\")"
   ]
  },
  {
   "cell_type": "code",
   "execution_count": 15,
   "id": "19279ade-582c-43cc-8427-a4e450f289ba",
   "metadata": {},
   "outputs": [],
   "source": [
    "#abstractmethod\n",
    "\n",
    "class Vehicle(ABC):\n",
    "    \n",
    "    @abstractmethod\n",
    "    def start_engine(self):\n",
    "        pass\n",
    "\n",
    "    @abstractmethod\n",
    "    def stop_engine(self):\n",
    "        pass \n",
    "\n",
    "    @abstractmethod\n",
    "    def fuel_type(self):\n",
    "        pass \n",
    "\n",
    "\n",
    "class Car(Vehicle):\n",
    "    def start_engine(self):\n",
    "        print(\"Car engine started.\")\n",
    "    \n",
    "    def stop_engine(self):\n",
    "        print(\"Car engine stopped.\")\n",
    "    \n",
    "    def fuel_type(self):\n",
    "        return \"Petrol\"\n",
    "\n",
    "\n",
    "class ElectricCar(Vehicle):\n",
    "    def start_engine(self):\n",
    "        print(\"Electric car engine started.\")\n",
    "    \n",
    "    \n"
   ]
  },
  {
   "cell_type": "code",
   "execution_count": 17,
   "id": "8a24f4e1-f24f-4697-8aa1-88a02639b785",
   "metadata": {},
   "outputs": [
    {
     "ename": "IndentationError",
     "evalue": "unindent does not match any outer indentation level (<string>, line 4)",
     "output_type": "error",
     "traceback": [
      "\u001b[1;36m  File \u001b[1;32m<string>:4\u001b[1;36m\u001b[0m\n\u001b[1;33m    def fuel_type(self):\u001b[0m\n\u001b[1;37m                        ^\u001b[0m\n\u001b[1;31mIndentationError\u001b[0m\u001b[1;31m:\u001b[0m unindent does not match any outer indentation level\n"
     ]
    }
   ],
   "source": [
    "def stop_engine(self):\n",
    "        print(\"Electric car engine stopped.\")\n",
    "    \n",
    "    def fuel_type(self):\n",
    "        return \"Electricity\"\n",
    "\n",
    "\n",
    "class Bike(Vehicle):\n",
    "    def start_engine(self):\n",
    "        print(\"Bike engine started.\")\n",
    "    \n",
    "    def stop_engine(self):\n",
    "        print(\"Bike engine stopped.\")\n",
    "    \n",
    "    def fuel_type(self):\n",
    "        return \"Petrol\"\n",
    "\n",
    "\n",
    "vehicles = [Car(), ElectricCar(), Bike()]\n",
    "\n",
    "for vehicle in vehicles:\n",
    "    print(f\"Fuel type: {vehicle.fuel_type()}\")\n",
    "    vehicle.start_engine()\n",
    "    vehicle.stop_engine()\n",
    "    print('-' * 30)"
   ]
  },
  {
   "cell_type": "code",
   "execution_count": 18,
   "id": "addd2cd7-2db4-46a5-854e-b394af93a567",
   "metadata": {},
   "outputs": [],
   "source": [
    "#abstractmethod\n",
    "\n",
    "class Vehicle(ABC):\n",
    "    \n",
    "    @abstractmethod\n",
    "    def start_engine(self):\n",
    "        pass  \n",
    "\n",
    "    @abstractmethod\n",
    "    def stop_engine(self):\n",
    "        pass\n",
    "\n",
    "    @abstractmethod\n",
    "    def fuel_type(self):\n",
    "        pass\n",
    "\n",
    "\n",
    "class Car(Vehicle):\n",
    "    def start_engine(self):\n",
    "        print(\"Car engine started.\")\n",
    "    \n",
    "    def stop_engine(self):\n",
    "        print(\"Car engine stopped.\")\n",
    "    \n",
    "    def fuel_type(self):\n",
    "        return \"Gasoline\"\n",
    "\n",
    "\n",
    "class ElectricCar(Vehicle):\n",
    "    def start_engine(self):\n",
    "        print(\"Electric car engine started.\")\n",
    "    \n",
    "    def stop_engine(self):\n",
    "        print(\"Electric car engine stopped.\")\n",
    "    \n",
    "    def fuel_type(self):\n",
    "        return \"Electricity\"\n",
    "\n",
    "\n",
    "class Bike(Vehicle):\n",
    "    def start_engine(self):\n",
    "        print(\"Bike engine started.\")\n",
    "    \n",
    "    def stop_engine(self):\n",
    "        print(\"Bike engine stopped.\")\n",
    "    \n",
    "    def fuel_type(self):\n",
    "        return \"Petrol\"\n",
    "\n",
    "\n",
    "\n",
    "\n"
   ]
  },
  {
   "cell_type": "code",
   "execution_count": 23,
   "id": "d0144ea9-510c-46f8-8159-388cab189339",
   "metadata": {},
   "outputs": [
    {
     "name": "stdout",
     "output_type": "stream",
     "text": [
      "Fuel type: Gasoline\n",
      "Fuel type: Electricity\n",
      "Fuel type: Petrol\n"
     ]
    }
   ],
   "source": [
    "vehicles = [Car(), ElectricCar(), Bike()]\n",
    "\n",
    "for vehicle in vehicles:\n",
    "    print(f\"Fuel type: {vehicle.fuel_type()}\")\n",
    "    \n",
    "   "
   ]
  },
  {
   "cell_type": "code",
   "execution_count": 30,
   "id": "a1bf66fb-8fc9-411a-b2f9-912069cfc643",
   "metadata": {},
   "outputs": [
    {
     "ename": "IndentationError",
     "evalue": "unindent does not match any outer indentation level (<string>, line 15)",
     "output_type": "error",
     "traceback": [
      "\u001b[1;36m  File \u001b[1;32m<string>:15\u001b[1;36m\u001b[0m\n\u001b[1;33m    def return_book(self):\u001b[0m\n\u001b[1;37m                          ^\u001b[0m\n\u001b[1;31mIndentationError\u001b[0m\u001b[1;31m:\u001b[0m unindent does not match any outer indentation level\n"
     ]
    }
   ],
   "source": [
    "class Book:\n",
    "    def __init__(self, title, author, copies_available):\n",
    "        self.title = title\n",
    "        self.author = author\n",
    "        self.__copies_available = copies_available \n",
    "\n",
    "    def borrow_book(self):\n",
    "        \"\"\"Borrow a book if available.\"\"\"\n",
    "        if self.__copies_available > 0:\n",
    "            self.__copies_available -= 1\n",
    "            print(f\"You have borrowed '{self.title}' by {self.author}.\")\n",
    "        else:\n",
    "            print(f\"Sorry, '{self.title}' is currently unavailable.\")\n",
    "\n",
    " def return_book(self):\n",
    "        \"\"\"Return a borrowed book.\"\"\"\n",
    "        self.__copies_available += 1\n",
    "        print(f\"You have returned '{self.title}' by {self.author}.\")\n",
    "\n",
    "    def get_available_copies(self):\n",
    "        \"\"\"Encapsulated access to available copies.\"\"\"\n",
    "        return self.__copies_available\n",
    "\n",
    "book1 = Book(\"2000\", \"shelves\", 3)\n",
    "\n",
    "\n",
    "book1.borrow_book()\n",
    "print(f\"Copies available: {book1.get_available_copies()}\") \n",
    "book1.return_book() \n",
    "print(f\"Copies available: {book1.get_available_copies()}\") \n",
    "\n",
    "    \n",
    "   \n"
   ]
  },
  {
   "cell_type": "code",
   "execution_count": 31,
   "id": "056d8d22-ebd5-49f6-9632-b2b350511508",
   "metadata": {},
   "outputs": [
    {
     "name": "stdout",
     "output_type": "stream",
     "text": [
      "You have borrowed '2000' by shelves.\n",
      "Copies available: 2\n",
      "You have returned '2000' by shelves.\n",
      "Copies available: 3\n"
     ]
    }
   ],
   "source": [
    "class Book:\n",
    "    def __init__(self, title, author, copies_available):\n",
    "        self.title = title\n",
    "        self.author = author\n",
    "        self.__copies_available = copies_available \n",
    "\n",
    "    def borrow_book(self):\n",
    "        \"\"\"Borrow a book if available.\"\"\"\n",
    "        if self.__copies_available > 0:\n",
    "            self.__copies_available -= 1\n",
    "            print(f\"You have borrowed '{self.title}' by {self.author}.\")\n",
    "        else:\n",
    "            print(f\"Sorry, '{self.title}' is currently unavailable.\")\n",
    "    \n",
    "    def return_book(self):\n",
    "        \"\"\"Return a borrowed book.\"\"\"\n",
    "        self.__copies_available += 1\n",
    "        print(f\"You have returned '{self.title}' by {self.author}.\")\n",
    "\n",
    "    def get_available_copies(self):\n",
    "        \"\"\"Encapsulated access to available copies.\"\"\"\n",
    "        return self.__copies_available\n",
    "\n",
    "\n",
    "book1 = Book(\"2000\", \"shelves\", 3)\n",
    "\n",
    "book1.borrow_book() \n",
    "print(f\"Copies available: {book1.get_available_copies()}\")  \n",
    "book1.return_book()  # Returning a book\n",
    "print(f\"Copies available: {book1.get_available_copies()}\")  \n"
   ]
  },
  {
   "cell_type": "code",
   "execution_count": 32,
   "id": "f6c0b4a0-c384-410c-beb4-27981e8ecadf",
   "metadata": {},
   "outputs": [
    {
     "name": "stdout",
     "output_type": "stream",
     "text": [
      "Woof!\n"
     ]
    }
   ],
   "source": [
    "# abstractmethod\n",
    "\n",
    "class Animal(ABC):\n",
    "    \n",
    "    @abstractmethod\n",
    "    def make_sound(self):\n",
    "        pass  # \n",
    "\n",
    "\n",
    "class Dog(Animal):\n",
    "    def make_sound(self):\n",
    "        return \"Woof!\"\n",
    "\n",
    "\n",
    "class Cat(Animal):\n",
    "    def make_sound(self):\n",
    "        return \"Meow!\"\n",
    "\n",
    "dog = Dog()\n",
    "cat = Cat()\n",
    "print(dog.make_sound())\n",
    "\n"
   ]
  },
  {
   "cell_type": "code",
   "execution_count": 33,
   "id": "7a51a353-d899-499a-a171-ce25433f1b5c",
   "metadata": {},
   "outputs": [
    {
     "name": "stdout",
     "output_type": "stream",
     "text": [
      "Meow!\n"
     ]
    }
   ],
   "source": [
    "print(cat.make_sound())"
   ]
  },
  {
   "cell_type": "code",
   "execution_count": 34,
   "id": "72fed30e-d544-42e8-bcb1-367f6a1be967",
   "metadata": {},
   "outputs": [
    {
     "name": "stdout",
     "output_type": "stream",
     "text": [
      "Person's age: 20\n"
     ]
    }
   ],
   "source": [
    "#encapsulation\n",
    "class Person:\n",
    "    def __init__(self, age):\n",
    "        self.__age = age\n",
    "\n",
    "    def set_age(self, age):\n",
    "        if age >= 0:\n",
    "            self.__age = age\n",
    "        else:\n",
    "            print(\"Age can't be negative.\")\n",
    "\n",
    "    def get_age(self):\n",
    "        return self.__age  \n",
    "\n",
    "person = Person(20)\n",
    "print(\"Person's age:\", person.get_age())\n",
    "\n"
   ]
  },
  {
   "cell_type": "code",
   "execution_count": 36,
   "id": "232344e8-279b-4e88-9e2d-1e43ff21f402",
   "metadata": {},
   "outputs": [
    {
     "name": "stdout",
     "output_type": "stream",
     "text": [
      "age after update: 30\n"
     ]
    }
   ],
   "source": [
    "person.set_age(30)\n",
    "print(\"age after update:\", person.get_age())\n",
    "\n",
    "\n"
   ]
  },
  {
   "cell_type": "code",
   "execution_count": 37,
   "id": "c0cc0dcb-edf3-4367-b581-388ac2f9cb56",
   "metadata": {},
   "outputs": [
    {
     "name": "stdout",
     "output_type": "stream",
     "text": [
      "Age can't be negative.\n"
     ]
    }
   ],
   "source": [
    "person.set_age(-5)"
   ]
  },
  {
   "cell_type": "code",
   "execution_count": 42,
   "id": "f0b4f357-85fd-478f-b5bf-a8625107a00e",
   "metadata": {},
   "outputs": [
    {
     "ename": "TypeError",
     "evalue": "Counter.increment() missing 1 required positional argument: 'self'",
     "output_type": "error",
     "traceback": [
      "\u001b[1;31m---------------------------------------------------------------------------\u001b[0m",
      "\u001b[1;31mTypeError\u001b[0m                                 Traceback (most recent call last)",
      "Cell \u001b[1;32mIn[42], line 13\u001b[0m\n\u001b[0;32m      9\u001b[0m         \u001b[38;5;28;01mreturn\u001b[39;00m \u001b[38;5;28mself\u001b[39m\u001b[38;5;241m.\u001b[39m__count  \n\u001b[0;32m     11\u001b[0m counter \u001b[38;5;241m=\u001b[39m Counter\n\u001b[1;32m---> 13\u001b[0m counter\u001b[38;5;241m.\u001b[39mincrement()\n\u001b[0;32m     14\u001b[0m counter\u001b[38;5;241m.\u001b[39mincrement()\n\u001b[0;32m     16\u001b[0m \u001b[38;5;28mprint\u001b[39m(counter\u001b[38;5;241m.\u001b[39mget_count())\n",
      "\u001b[1;31mTypeError\u001b[0m: Counter.increment() missing 1 required positional argument: 'self'"
     ]
    }
   ],
   "source": [
    "class Counter:\n",
    "    def __init__(self):\n",
    "        self.__count = 1 \n",
    "\n",
    "    def increment(self):\n",
    "        self.__count = 3\n",
    "\n",
    "    def get_count(self):\n",
    "        return self.__count  \n",
    "\n",
    "counter = Counter\n",
    "\n",
    "counter.increment()\n",
    "counter.increment()\n",
    "\n",
    "print(counter.get_count())\n"
   ]
  },
  {
   "cell_type": "code",
   "execution_count": 43,
   "id": "68a17770-41f2-497a-9acd-e9b1cac6ee02",
   "metadata": {},
   "outputs": [
    {
     "name": "stdout",
     "output_type": "stream",
     "text": [
      "3\n"
     ]
    }
   ],
   "source": [
    "class Counter:\n",
    "    def __init__(self):\n",
    "        self.__count = 1 \n",
    "\n",
    "    def increment(self):\n",
    "        self.__count = 3\n",
    "\n",
    "    def get_count(self):\n",
    "        return self.__count  \n",
    "\n",
    "counter = Counter()\n",
    "\n",
    "counter.increment()\n",
    "counter.increment()\n",
    "\n",
    "print(counter.get_count())"
   ]
  },
  {
   "cell_type": "code",
   "execution_count": null,
   "id": "590dcc3c-4ecd-4eb1-a47b-aad68a225cb0",
   "metadata": {},
   "outputs": [],
   "source": []
  }
 ],
 "metadata": {
  "kernelspec": {
   "display_name": "Python 3 (ipykernel)",
   "language": "python",
   "name": "python3"
  },
  "language_info": {
   "codemirror_mode": {
    "name": "ipython",
    "version": 3
   },
   "file_extension": ".py",
   "mimetype": "text/x-python",
   "name": "python",
   "nbconvert_exporter": "python",
   "pygments_lexer": "ipython3",
   "version": "3.12.7"
  }
 },
 "nbformat": 4,
 "nbformat_minor": 5
}
